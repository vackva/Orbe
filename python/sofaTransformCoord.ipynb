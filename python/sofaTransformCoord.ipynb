{
 "cells": [
  {
   "cell_type": "code",
   "execution_count": 47,
   "id": "c3665469-1050-44fe-8fb6-3034c12c1e36",
   "metadata": {},
   "outputs": [],
   "source": [
    "import sofar as sf\n",
    "import pyfar as pf\n",
    "from pathlib import Path\n",
    "import matplotlib.pyplot as plt\n",
    "import numpy as np\n",
    "\n",
    "sofa_measured_path = Path(\"../Matlab/MCA_Interpolation\") / \"pp2_HRIRs_measured.sofa\"\n",
    "sofa_interpolated_sh_path = Path(\"../Matlab/MCA_Interpolation\") / \"pp2_HRIRs_interpolated_sh.sofa\"\n",
    "sofa_interpolated_sh_timealign_path = Path(\"../Matlab/MCA_Interpolation\") / \"pp2_HRIRs_interpolated_sh_timealign.sofa\"\n",
    "sofa_interpolated_mca_path = Path(\"../Matlab/MCA_Interpolation\") / \"pp2_HRIRs_interpolated_mca.sofa\""
   ]
  },
  {
   "cell_type": "markdown",
   "id": "8fd6ca66-0269-4872-8189-972e1f9abcd9",
   "metadata": {},
   "source": [
    "# read Sofa file"
   ]
  },
  {
   "cell_type": "code",
   "execution_count": 48,
   "id": "54b8817c-19e2-4b00-a750-d85688778026",
   "metadata": {},
   "outputs": [],
   "source": [
    "sofa_measured = sf.read_sofa(sofa_measured_path)\n",
    "sofa_interpolated_sh = sf.read_sofa(sofa_interpolated_sh_path)\n",
    "sofa_interpolated_sh_timealign = sf.read_sofa(sofa_interpolated_sh_timealign_path)\n",
    "sofa_interpolated_mca = sf.read_sofa(sofa_interpolated_mca_path)"
   ]
  },
  {
   "cell_type": "code",
   "execution_count": 49,
   "id": "7cb6c188-f063-4e33-a372-5696670d97d7",
   "metadata": {},
   "outputs": [
    {
     "name": "stdout",
     "output_type": "stream",
     "text": [
      "0.0 180.0\n"
     ]
    }
   ],
   "source": [
    "elevations = [coord[1] for coord in sofa_measured.SourcePosition]\n",
    "print(np.min(elevations), np.max(elevations))"
   ]
  },
  {
   "cell_type": "code",
   "execution_count": 50,
   "id": "9b2ec01d-2ce6-4e6e-b4ac-64a9143319dc",
   "metadata": {},
   "outputs": [
    {
     "name": "stdout",
     "output_type": "stream",
     "text": [
      "-90.0 90.0\n"
     ]
    }
   ],
   "source": [
    "elevations = [coord[1] for coord in sofa_interpolated_mca.SourcePosition]\n",
    "print(np.min(elevations), np.max(elevations))"
   ]
  },
  {
   "cell_type": "code",
   "execution_count": 45,
   "id": "7bdfb7ee-a11e-4bc7-bd42-1cf3c23a98c0",
   "metadata": {},
   "outputs": [],
   "source": [
    "sofa_measured.SourcePosition = [ [ coord[0], coord[1] + 90, coord[2] ] for coord in sofa_measured.SourcePosition]"
   ]
  },
  {
   "cell_type": "code",
   "execution_count": 51,
   "id": "d7575700-075f-4884-b528-5e6aa874e4f5",
   "metadata": {},
   "outputs": [
    {
     "name": "stdout",
     "output_type": "stream",
     "text": [
      "0.0 180.0\n"
     ]
    }
   ],
   "source": [
    "elevations = [coord[1] for coord in sofa_measured.SourcePosition]\n",
    "print(np.min(elevations), np.max(elevations))"
   ]
  },
  {
   "cell_type": "code",
   "execution_count": 40,
   "id": "544e2fc9-5864-4d2a-8b37-29670387bd1e",
   "metadata": {},
   "outputs": [],
   "source": [
    "sf.write_sofa(sofa_measured_path, sofa_measured)"
   ]
  },
  {
   "cell_type": "code",
   "execution_count": null,
   "id": "9de837f1-e375-41ab-acd3-5c45ed5e79c5",
   "metadata": {},
   "outputs": [],
   "source": []
  },
  {
   "cell_type": "code",
   "execution_count": null,
   "id": "d1c24b71-9ceb-485d-bca5-a56954fc1ada",
   "metadata": {},
   "outputs": [],
   "source": []
  }
 ],
 "metadata": {
  "kernelspec": {
   "display_name": "Python 3 (ipykernel)",
   "language": "python",
   "name": "python3"
  },
  "language_info": {
   "codemirror_mode": {
    "name": "ipython",
    "version": 3
   },
   "file_extension": ".py",
   "mimetype": "text/x-python",
   "name": "python",
   "nbconvert_exporter": "python",
   "pygments_lexer": "ipython3",
   "version": "3.11.8"
  }
 },
 "nbformat": 4,
 "nbformat_minor": 5
}
