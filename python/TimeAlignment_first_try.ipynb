{
 "cells": [
  {
   "cell_type": "code",
   "execution_count": 1,
   "id": "6c1847cf-690a-4f80-87b4-37d101f7a9d7",
   "metadata": {},
   "outputs": [],
   "source": [
    "import scipy as sp\n",
    "import numpy as np\n",
    "import pyfar as pf\n",
    "import os"
   ]
  },
  {
   "cell_type": "markdown",
   "id": "2d15864b-cd89-449a-80e7-48bab97c730a",
   "metadata": {},
   "source": [
    "# Define functions"
   ]
  },
  {
   "cell_type": "code",
   "execution_count": 2,
   "id": "b655b517-5129-4e86-91f0-1427845df270",
   "metadata": {},
   "outputs": [],
   "source": [
    "# Generate order (n) and degree (m) indices arrays for sph order N\n",
    "def get_nm_arrays(N):\n",
    "    n = np.array([])\n",
    "    m = np.array([])\n",
    "    for nn in range(N+1):\n",
    "        n = np.append(n, nn * np.ones(2*nn+1))\n",
    "        m = np.append(m, np.arange(-nn, nn+1))\n",
    "    return n, m\n",
    "\n",
    "def get_k_from_f(f):\n",
    "    return ( ( 2*np.pi * f ) / 343 )\n",
    "\n",
    "def get_max_sph_order(Q, a=1):\n",
    "    \"\"\" Computes maximum spherical harmonics order from number of sampling points \n",
    "    and lambda (a) depending on the grid topology. \n",
    "    The default for lamda is 1.\"\"\"\n",
    "    \n",
    "    return int ( np.sqrt( (( Q - a ) / a ) + 1) - 1 )\n",
    "\n",
    "def get_hrtf_eq_dataset( Y_sampling, m, n, frequencies, ear_distance=0.165):\n",
    "    \"\"\" returns eqDataset containing sh coefficients describing \n",
    "    the sound incidence at the letf/right ear position on the sphere. \n",
    "    length of sh coefficients is length of input frequencies.\n",
    "    Y_sampling uses same sampling points as sampling, but with higher sph order.\"\"\" \n",
    "\n",
    "    eq_matrix = []\n",
    "\n",
    "    p = 1 # arbitrary sound pressure level ???\n",
    "    radius = ear_distance / 2     \n",
    "  \n",
    "    i_n = 1j**n\n",
    "\n",
    "    Y_left_ear = sp.special.sph_harm(m, n, -np.pi, 0)\n",
    "    Y_right_ear = sp.special.sph_harm(m, n, np.pi, 0)\n",
    "\n",
    "    kr = [ get_k_from_f(f) * radius for f in frequencies ]\n",
    "\n",
    "    for Y_ear in [Y_left_ear, Y_right_ear]:\n",
    "        # rigid sphere transfer function as described in Pörschmann et al. 2019\n",
    "        eq_matrix.append( [p * 4*np.pi * i_n * sp.special.spherical_jn(n, z) * Y_ear * np.conjugate(Y_sampling) for z in kr])\n",
    "    \n",
    "    eq_dataset = np.sum( np.array( eq_matrix ), axis=3) # sum over all sph kernels (part of inverse psh transformation)\n",
    "    eq_dataset = np.swapaxes( np.swapaxes(eq_dataset, 1, 2), 0, 1)\n",
    "    \n",
    "    return eq_dataset\n",
    "    \n",
    "        "
   ]
  },
  {
   "cell_type": "markdown",
   "id": "991cfeea-2d71-4b7b-9dd8-1497ab2a5736",
   "metadata": {},
   "source": [
    "# Load hrirs"
   ]
  },
  {
   "cell_type": "code",
   "execution_count": 3,
   "id": "b77ff561-7df7-4b8f-bb35-93402ab24752",
   "metadata": {},
   "outputs": [],
   "source": [
    "file = os.path.join(\n",
    "    r'..',  'assets', 'pp2_HRIRs_measured.sofa')\n",
    "hrirs, sg, _ = pf.io.read_sofa(file)"
   ]
  },
  {
   "cell_type": "markdown",
   "id": "782bf25e-6fc2-41b9-bb1d-e4304d04c5f5",
   "metadata": {},
   "source": [
    "# Get spherical harmonics functions for original sampling grid"
   ]
  },
  {
   "cell_type": "code",
   "execution_count": 4,
   "id": "91c087e5-676e-4ed4-b0e1-b0db1c9d1be2",
   "metadata": {},
   "outputs": [
    {
     "data": {
      "text/plain": [
       "(440, 1296)"
      ]
     },
     "execution_count": 4,
     "metadata": {},
     "output_type": "execute_result"
    }
   ],
   "source": [
    "sph_order = 35 \n",
    "n, m = get_nm_arrays(sph_order)\n",
    "Y_sampling = sp.special.sph_harm(m[None, ...], n[None, ...], sg.azimuth[..., None], sg.colatitude[..., None])\n",
    "\n",
    "Y_sampling.shape # sampling pos, sph kernels\n",
    "#radius = 1.47\n",
    "#frequencies = hrirs.frequencies\n",
    "#Q = np.ma.size(hrirs, axis=0)"
   ]
  },
  {
   "cell_type": "markdown",
   "id": "bc461e72-576f-4975-bd2b-463a0cbfbeb3",
   "metadata": {},
   "source": [
    "# Get rigid sphere transfer function (equalization dataset)"
   ]
  },
  {
   "cell_type": "code",
   "execution_count": 5,
   "id": "cd5b334f-e19c-4a9c-a83e-f6544e67e521",
   "metadata": {},
   "outputs": [
    {
     "data": {
      "text/plain": [
       "(440, 2, 129)"
      ]
     },
     "execution_count": 5,
     "metadata": {},
     "output_type": "execute_result"
    }
   ],
   "source": [
    "frequencies = hrirs.frequencies\n",
    "\n",
    "eq_dataset = get_hrtf_eq_dataset(Y_sampling, m, n, frequencies)\n",
    "eq_dataset.shape # left/right ear, frequencies, sampling positions, sph kernels"
   ]
  },
  {
   "cell_type": "markdown",
   "id": "d5bb4a1b-687b-4857-80ea-27b5f629e502",
   "metadata": {},
   "source": [
    "# Apply equalization"
   ]
  },
  {
   "cell_type": "code",
   "execution_count": 6,
   "id": "7300c8ff-d22e-4eea-86f9-4fb39530a964",
   "metadata": {},
   "outputs": [
    {
     "name": "stderr",
     "output_type": "stream",
     "text": [
      "/var/folders/rf/2tvjwq1n48l_gv0rrdfq6j5r0000gp/T/ipykernel_2435/1762649605.py:9: ComplexWarning: Casting complex values to real discards the imaginary part\n",
      "  hrtf_equalized[i] = np.divide(pos_sparse[i], pos_rsphere[i])\n"
     ]
    }
   ],
   "source": [
    "hrirs.freq.shape # sampling positions, left/right ear, frequencies\n",
    "number_channels = hrirs.freq.shape[1]\n",
    "\n",
    "hrtf_equalized = np.zeros((hrirs.freq.shape))\n",
    "\n",
    "# for every sampling position: divide hrtf with rigid sphere transfer function\n",
    "for pos_sparse, pos_rsphere in zip(hrirs.freq, eq_dataset):\n",
    "    for i in range( number_channels ):\n",
    "        hrtf_equalized[i] = np.divide(pos_sparse[i], pos_rsphere[i])\n",
    "\n",
    "hrtf_equalized.shape\n",
    "hrtf_equalized = np.swapaxes(hrtf_equalized, 0, 1)"
   ]
  },
  {
   "cell_type": "markdown",
   "id": "3820cf93-acb3-42fc-b6ad-45399b8baaf9",
   "metadata": {},
   "source": [
    "# Get sh cofficients of equalized hrtf (sh-transform)"
   ]
  },
  {
   "cell_type": "code",
   "execution_count": 7,
   "id": "bc48b223-1a1b-40f1-9a6e-a3870a341a35",
   "metadata": {},
   "outputs": [],
   "source": [
    "# get inverse of sh transform kernels\n",
    "Y_inv = np.linalg.pinv(Y_sampling)\n",
    "\n",
    "# SH transform\n",
    "f_nm_L = pf.matrix_multiplication((Y_inv, hrtf_equalized[0]))\n",
    "f_nm_R = pf.matrix_multiplication((Y_inv, hrtf_equalized[1]))"
   ]
  },
  {
   "cell_type": "markdown",
   "id": "7f894f48-9bb3-4798-b91e-203a023bc3c4",
   "metadata": {},
   "source": [
    "#  Upsample/interpolate equalized hrtf with dense sph grid (inverse sph transform)"
   ]
  },
  {
   "cell_type": "code",
   "execution_count": 8,
   "id": "a2055ce1-ca7f-4549-8f93-25b992d2c846",
   "metadata": {},
   "outputs": [
    {
     "name": "stderr",
     "output_type": "stream",
     "text": [
      "/opt/anaconda3/envs/audio_feature_extraction/lib/python3.11/site-packages/pyfar/samplings/samplings.py:393: PyfarDeprecationWarning: 'This function will be deprecated in pyfar 0.8.0 in favor of spharpy.samplings.hyperinterpolation.'\n",
      "  warnings.warn((\n",
      "/opt/anaconda3/envs/audio_feature_extraction/lib/python3.11/site-packages/pyfar/classes/coordinates.py:166: PyfarDeprecationWarning: 'This function will be deprecated in pyfar 0.8.0 in favor of spharpy.samplings.SamplingSphere.'\n",
      "  warnings.warn((\n"
     ]
    },
    {
     "name": "stdout",
     "output_type": "stream",
     "text": [
      "35\n",
      "(1296, 1296)\n",
      "(1296, 129)\n"
     ]
    }
   ],
   "source": [
    "# Equidistant spherical sampling grid\n",
    "grid = pf.samplings.sph_extremal(n_points=None, sh_order=sph_order, radius=1.47)\n",
    "print(sph_order)\n",
    "\n",
    "# Compute Y2 with denser grid\n",
    "Y2 = sp.special.sph_harm(\n",
    "    m[None, ...], n[None, ...],\n",
    "    grid.azimuth[..., None], grid.colatitude[..., None])\n",
    "\n",
    "# inverse sh transform\n",
    "print(Y2.shape) # positions, sph kernels\n",
    "print(f_nm_L.shape)\n",
    "hrirs_eq_sh_L = pf.matrix_multiplication((Y2, f_nm_L))\n",
    "hrirs_eq_sh_R = pf.matrix_multiplication((Y2, f_nm_R))"
   ]
  },
  {
   "cell_type": "markdown",
   "id": "f7984933-9951-46a0-9d55-7dbdfa1c4b97",
   "metadata": {},
   "source": [
    "# Reconstruct hrtf by dequalization"
   ]
  },
  {
   "cell_type": "code",
   "execution_count": 9,
   "id": "129225c4-1225-4d06-a59f-1497804f7544",
   "metadata": {},
   "outputs": [
    {
     "name": "stdout",
     "output_type": "stream",
     "text": [
      "(1296, 129)\n",
      "(129, 440)\n"
     ]
    }
   ],
   "source": [
    "# multiply upsampled hrtf with rigid sphere transfer function for dequalization\n",
    "print(hrirs_eq_sh_L.shape)\n",
    "print(np.swapaxes( np.swapaxes( eq_dataset, 0, 1) [0], 0, 1 ).shape)\n",
    "hrirs_sh_L = pf.matrix_multiplication((hrirs_eq_sh_L, np.swapaxes( np.swapaxes( eq_dataset, 0, 1) [0], 0, 1 )))\n",
    "hrirs_sh_R = pf.matrix_multiplication((hrirs_eq_sh_R, np.swapaxes( np.swapaxes( eq_dataset, 0, 1) [1], 0, 1 )))"
   ]
  },
  {
   "cell_type": "markdown",
   "id": "83aa1c99-313d-4c1b-a09d-d0a849308743",
   "metadata": {},
   "source": [
    "# Plot specific hrir"
   ]
  },
  {
   "cell_type": "code",
   "execution_count": 10,
   "id": "b301a806-d743-4aec-ad54-30afe3cf9284",
   "metadata": {},
   "outputs": [
    {
     "name": "stderr",
     "output_type": "stream",
     "text": [
      "/opt/anaconda3/envs/audio_feature_extraction/lib/python3.11/site-packages/pyfar/classes/audio.py:617: UserWarning: Number of samples not given, assuming 2590 samples from 1296 frequency bins.\n",
      "  warnings.warn(\n"
     ]
    },
    {
     "data": {
      "text/plain": [
       "<Axes: xlabel='Frequency in Hz', ylabel='Magnitude in dB'>"
      ]
     },
     "execution_count": 10,
     "metadata": {},
     "output_type": "execute_result"
    },
    {
     "data": {
      "image/png": "[encoded data removed]",
      "text/plain": [
       "<Figure size 640x480 with 1 Axes>"
      ]
     },
     "metadata": {},
     "output_type": "display_data"
    }
   ],
   "source": [
    "pf.plot.freq(pf.Signal(np.swapaxes(hrirs_sh_L, 0, 1)[0], sampling_rate=44100, domain='freq'))"
   ]
  },
  {
   "cell_type": "code",
   "execution_count": null,
   "id": "fd491564-cc61-45e6-b1b9-4423548dabcb",
   "metadata": {},
   "outputs": [],
   "source": []
  }
 ],
 "metadata": {
  "kernelspec": {
   "display_name": "Python 3 (ipykernel)",
   "language": "python",
   "name": "python3"
  },
  "language_info": {
   "codemirror_mode": {
    "name": "ipython",
    "version": 3
   },
   "file_extension": ".py",
   "mimetype": "text/x-python",
   "name": "python",
   "nbconvert_exporter": "python",
   "pygments_lexer": "ipython3",
   "version": "3.11.8"
  }
 },
 "nbformat": 4,
 "nbformat_minor": 5
}
