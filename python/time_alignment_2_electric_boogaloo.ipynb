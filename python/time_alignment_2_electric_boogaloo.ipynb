{
 "cells": [
  {
   "cell_type": "code",
   "execution_count": 9,
   "metadata": {},
   "outputs": [],
   "source": [
    "import sofar as sf\n",
    "import pyfar as pf\n",
    "from pathlib import Path\n",
    "\n",
    "input_sofa = Path(\"../assets\") / \"pp2_HRIRs_measured.sofa\""
   ]
  },
  {
   "cell_type": "markdown",
   "metadata": {},
   "source": [
    "# read Sofa file"
   ]
  },
  {
   "cell_type": "code",
   "execution_count": 6,
   "metadata": {},
   "outputs": [],
   "source": [
    "sofa = sf.read_sofa(input_sofa)"
   ]
  },
  {
   "cell_type": "code",
   "execution_count": 16,
   "metadata": {},
   "outputs": [
    {
     "name": "stdout",
     "output_type": "stream",
     "text": [
      "SimpleFreeFieldHRIR 1.0 (SOFA version 1.0)\n",
      "-------------------------------------------\n",
      "GLOBAL_Conventions : SOFA\n",
      "GLOBAL_Version : 1.0\n",
      "GLOBAL_SOFAConventions : SimpleFreeFieldHRIR\n",
      "GLOBAL_SOFAConventionsVersion : 1.0\n",
      "GLOBAL_APIName : ARI SOFA API for Matlab/Octave\n",
      "GLOBAL_APIVersion : 1.0.3\n",
      "GLOBAL_AuthorContact : fabian.brinkmann@mailbox.org; manoj.fma@gmail.com\n",
      "GLOBAL_DataType : FIR\n",
      "GLOBAL_License : cc-by 4.0 (https://creativecommons.org/licenses/by/4.0/)\n",
      "GLOBAL_Organization : Audio Communication Group, Technical University Berlin; HUAWEI Munich Research Center; Sennheiser\n",
      "GLOBAL_RoomType : free field\n",
      "GLOBAL_DateCreated : 2018-09-17 15:28:15\n",
      "GLOBAL_DateModified : 2018-10-23 16:06:34\n",
      "GLOBAL_Title : head-related impulse responses\n",
      "GLOBAL_DatabaseName : HUTUBS\n",
      "GLOBAL_ListenerShortName : pp2\n",
      "ListenerPosition : (I=1, C=3)\n",
      "  [0. 0. 0.]\n",
      "ListenerPosition_Type : cartesian\n",
      "ListenerPosition_Units : metre\n",
      "ReceiverPosition : (R=2, C=3, I=1)\n",
      "  [[ 0.    0.75  0.  ]\n",
      "   [ 0.   -0.75  0.  ]]\n",
      "ReceiverPosition_Type : cartesian\n",
      "ReceiverPosition_Units : metre\n",
      "SourcePosition : (M=440, C=3)\n",
      "SourcePosition_Type : spherical\n",
      "SourcePosition_Units : degree, degree, metre\n",
      "EmitterPosition : (E=1, C=3, I=1)\n",
      "  [0. 0. 0.]\n",
      "EmitterPosition_Type : cartesian\n",
      "EmitterPosition_Units : metre\n",
      "ListenerUp : (I=1, C=3)\n",
      "  [0. 0. 1.]\n",
      "ListenerView : (I=1, C=3)\n",
      "  [1. 0. 0.]\n",
      "ListenerView_Type : cartesian\n",
      "ListenerView_Units : metre\n",
      "Data_IR : (M=440, R=2, N=256)\n",
      "Data_SamplingRate : 44100.0\n",
      "Data_SamplingRate_Units : hertz\n",
      "Data_Delay : (I=1, R=2)\n",
      "  [0. 0.]\n",
      "\n"
     ]
    }
   ],
   "source": [
    "sofa.inspect()"
   ]
  },
  {
   "cell_type": "code",
   "execution_count": 32,
   "metadata": {},
   "outputs": [
    {
     "name": "stdout",
     "output_type": "stream",
     "text": [
      "7 47\n"
     ]
    }
   ],
   "source": [
    "start_times = []\n",
    "for i, source in enumerate(sofa.Data_IR):\n",
    "    for j, ir in enumerate(source):\n",
    "        ir_signal = pf.Signal(ir, sampling_rate=sofa.Data_SamplingRate)\n",
    "        start_times.append(pf.dsp.find_impulse_response_start(ir_signal))\n",
    "        \n",
    "print(min(start_times), max(start_times))\n",
    "\n",
    "shift_to = min(start_times)"
   ]
  },
  {
   "cell_type": "code",
   "execution_count": 33,
   "metadata": {},
   "outputs": [],
   "source": [
    "delay_times = []\n",
    "time_shifted_irs = []\n",
    "for i, source in enumerate(sofa.Data_IR):\n",
    "    source_irs = []\n",
    "    source_delays = []\n",
    "    for j, ir in enumerate(source):\n",
    "        ir_signal = pf.Signal(ir, sampling_rate=sofa.Data_SamplingRate)\n",
    "        ir_start = pf.dsp.find_impulse_response_start(ir_signal)\n",
    "        ir_delay = ir_start - shift_to\n",
    "        pf.dsp.time_shift(ir_signal, -ir_delay)\n",
    "        source_irs.append(ir_signal.time)\n",
    "        source_delays.append(ir_delay)\n",
    "\n",
    "    delay_times.append(source_delays)\n",
    "    time_shifted_irs.append(source_irs)\n",
    "        \n"
   ]
  },
  {
   "cell_type": "code",
   "execution_count": 34,
   "metadata": {},
   "outputs": [],
   "source": [
    "sofa.Data_Delay = delay_times\n",
    "sofa.Data_IR = time_shifted_irs"
   ]
  },
  {
   "cell_type": "code",
   "execution_count": 36,
   "metadata": {},
   "outputs": [],
   "source": [
    "sofa.verify()"
   ]
  }
 ],
 "metadata": {
  "kernelspec": {
   "display_name": "venv",
   "language": "python",
   "name": "python3"
  },
  "language_info": {
   "codemirror_mode": {
    "name": "ipython",
    "version": 3
   },
   "file_extension": ".py",
   "mimetype": "text/x-python",
   "name": "python",
   "nbconvert_exporter": "python",
   "pygments_lexer": "ipython3",
   "version": "3.11.8"
  }
 },
 "nbformat": 4,
 "nbformat_minor": 2
}
